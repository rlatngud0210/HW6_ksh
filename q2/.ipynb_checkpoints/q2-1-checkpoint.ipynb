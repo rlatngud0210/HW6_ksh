{
 "cells": [
  {
   "cell_type": "code",
   "execution_count": 2,
   "id": "6a46ca99",
   "metadata": {},
   "outputs": [],
   "source": [
    "import csv\n",
    "import random\n",
    "def main():\n",
    "    for i in range(0,100001):\n",
    "        data.append([random.randint(1,6)])\n",
    "    with open('output.csv','w',encoding = 'ANSI',newline='')as f:\n",
    "        writer = csv.writer(f)\n",
    "        writer.writerows(data)\n",
    "        \n",
    "if __name__ == '__main__':\n",
    "\n",
    "    main()"
   ]
  },
  {
   "cell_type": "code",
   "execution_count": null,
   "id": "8a9e7534",
   "metadata": {},
   "outputs": [],
   "source": []
  }
 ],
 "metadata": {
  "kernelspec": {
   "display_name": "Python 3 (ipykernel)",
   "language": "python",
   "name": "python3"
  },
  "language_info": {
   "codemirror_mode": {
    "name": "ipython",
    "version": 3
   },
   "file_extension": ".py",
   "mimetype": "text/x-python",
   "name": "python",
   "nbconvert_exporter": "python",
   "pygments_lexer": "ipython3",
   "version": "3.9.13"
  }
 },
 "nbformat": 4,
 "nbformat_minor": 5
}
